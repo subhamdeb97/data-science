{
 "cells": [
  {
   "cell_type": "code",
   "execution_count": 1,
   "id": "e2f07196",
   "metadata": {},
   "outputs": [],
   "source": [
    "import numpy as np"
   ]
  },
  {
   "cell_type": "code",
   "execution_count": 2,
   "id": "e6689cbd",
   "metadata": {},
   "outputs": [],
   "source": [
    "array1 = np.array([1,3,4,6,3,5,8])"
   ]
  },
  {
   "cell_type": "code",
   "execution_count": 6,
   "id": "35273941",
   "metadata": {},
   "outputs": [
    {
     "data": {
      "text/plain": [
       "array([1, 3, 4, 6, 3, 5, 8])"
      ]
     },
     "execution_count": 6,
     "metadata": {},
     "output_type": "execute_result"
    }
   ],
   "source": [
    "array1"
   ]
  },
  {
   "cell_type": "code",
   "execution_count": 7,
   "id": "1afa7dc5",
   "metadata": {},
   "outputs": [
    {
     "name": "stdout",
     "output_type": "stream",
     "text": [
      "[1 3 4 6 3 5 8]\n"
     ]
    }
   ],
   "source": [
    "print(array1)"
   ]
  },
  {
   "cell_type": "code",
   "execution_count": 11,
   "id": "527bc2bc",
   "metadata": {},
   "outputs": [
    {
     "data": {
      "text/plain": [
       "numpy.ndarray"
      ]
     },
     "execution_count": 11,
     "metadata": {},
     "output_type": "execute_result"
    }
   ],
   "source": [
    "type(array1)\n",
    "#its a numpy array, not the normal python array\n",
    "# numpy use for fast calculation of number"
   ]
  },
  {
   "cell_type": "code",
   "execution_count": 13,
   "id": "6ce2fff7",
   "metadata": {},
   "outputs": [],
   "source": [
    "array2 = np.array([[1,2,3],[4,5,6]])\n",
    "# this a two dimention (2D) array"
   ]
  },
  {
   "cell_type": "code",
   "execution_count": 14,
   "id": "a13b1444",
   "metadata": {},
   "outputs": [
    {
     "name": "stdout",
     "output_type": "stream",
     "text": [
      "[[1 2 3]\n",
      " [4 5 6]]\n"
     ]
    }
   ],
   "source": [
    "print(array2)"
   ]
  },
  {
   "cell_type": "code",
   "execution_count": 17,
   "id": "899a8348",
   "metadata": {},
   "outputs": [
    {
     "data": {
      "text/plain": [
       "(2, 3)"
      ]
     },
     "execution_count": 17,
     "metadata": {},
     "output_type": "execute_result"
    }
   ],
   "source": [
    "array2.shape\n",
    "# this return the shape of the array , like the matrix numbering (row, column)"
   ]
  },
  {
   "cell_type": "code",
   "execution_count": 21,
   "id": "68c4e97a",
   "metadata": {},
   "outputs": [
    {
     "data": {
      "text/plain": [
       "dtype('int32')"
      ]
     },
     "execution_count": 21,
     "metadata": {},
     "output_type": "execute_result"
    }
   ],
   "source": [
    "array2.dtype\n",
    "# show which type of data is store in this array"
   ]
  },
  {
   "cell_type": "code",
   "execution_count": 26,
   "id": "fa350690",
   "metadata": {},
   "outputs": [],
   "source": [
    "array2 = np.array([[1,2,3],[4,5,6.0]])\n",
    "#data type change to float, all data get float type"
   ]
  },
  {
   "cell_type": "code",
   "execution_count": 27,
   "id": "639e2db4",
   "metadata": {},
   "outputs": [
    {
     "data": {
      "text/plain": [
       "dtype('float64')"
      ]
     },
     "execution_count": 27,
     "metadata": {},
     "output_type": "execute_result"
    }
   ],
   "source": [
    "array2.dtype"
   ]
  },
  {
   "cell_type": "code",
   "execution_count": 28,
   "id": "d3a7f4fc",
   "metadata": {},
   "outputs": [
    {
     "name": "stdout",
     "output_type": "stream",
     "text": [
      "[[1. 2. 3.]\n",
      " [4. 5. 6.]]\n"
     ]
    }
   ],
   "source": [
    "print(array2)"
   ]
  },
  {
   "cell_type": "code",
   "execution_count": 33,
   "id": "f16ee5af",
   "metadata": {},
   "outputs": [],
   "source": [
    "array3 = np.array([1,2,3,4,5.6,6,7,8], dtype='int32')\n",
    "#force fully make the data type at creation 5.6 value only take 5"
   ]
  },
  {
   "cell_type": "code",
   "execution_count": 34,
   "id": "e6a81862",
   "metadata": {},
   "outputs": [
    {
     "data": {
      "text/plain": [
       "array([1, 2, 3, 4, 5, 6, 7, 8])"
      ]
     },
     "execution_count": 34,
     "metadata": {},
     "output_type": "execute_result"
    }
   ],
   "source": [
    "array3"
   ]
  },
  {
   "cell_type": "code",
   "execution_count": 37,
   "id": "a8ec615e",
   "metadata": {},
   "outputs": [
    {
     "data": {
      "text/plain": [
       "array([[0., 0., 0., 0., 0., 0.],\n",
       "       [0., 0., 0., 0., 0., 0.],\n",
       "       [0., 0., 0., 0., 0., 0.]])"
      ]
     },
     "execution_count": 37,
     "metadata": {},
     "output_type": "execute_result"
    }
   ],
   "source": [
    "zerosarray = np.zeros((3,6))\n",
    "# its make a array where all the intial number is 0. , imp- value are in float64\n",
    "zerosarray\n"
   ]
  },
  {
   "cell_type": "code",
   "execution_count": 40,
   "id": "00654561",
   "metadata": {},
   "outputs": [
    {
     "data": {
      "text/plain": [
       "array([[1., 1., 1., 1., 1., 1., 1., 1.],\n",
       "       [1., 1., 1., 1., 1., 1., 1., 1.],\n",
       "       [1., 1., 1., 1., 1., 1., 1., 1.],\n",
       "       [1., 1., 1., 1., 1., 1., 1., 1.],\n",
       "       [1., 1., 1., 1., 1., 1., 1., 1.],\n",
       "       [1., 1., 1., 1., 1., 1., 1., 1.],\n",
       "       [1., 1., 1., 1., 1., 1., 1., 1.],\n",
       "       [1., 1., 1., 1., 1., 1., 1., 1.],\n",
       "       [1., 1., 1., 1., 1., 1., 1., 1.],\n",
       "       [1., 1., 1., 1., 1., 1., 1., 1.]])"
      ]
     },
     "execution_count": 40,
     "metadata": {},
     "output_type": "execute_result"
    }
   ],
   "source": [
    "onesarray = np.ones((10,8))\n",
    "onesarray\n",
    "## this is for one value"
   ]
  },
  {
   "cell_type": "code",
   "execution_count": 42,
   "id": "685e8941",
   "metadata": {},
   "outputs": [
    {
     "data": {
      "text/plain": [
       "array([[7.43150812e-312, 1.02271589e-321, 0.00000000e+000,\n",
       "        0.00000000e+000, 8.06635533e-308, 5.02034658e+175],\n",
       "       [1.58767980e-047, 8.38449354e+165, 6.38735192e-067,\n",
       "        9.68746118e-071, 1.66759137e-047, 4.26397589e-096],\n",
       "       [1.12855837e+277, 8.76730979e+252, 2.59027920e-144,\n",
       "        3.80985069e+180, 1.14428494e+243, 2.59027907e-144],\n",
       "       [7.79952704e-143, 2.35991414e+184, 4.32196204e-037,\n",
       "        1.89936126e-052, 3.35036227e-033, 2.59027859e-144],\n",
       "       [2.59903818e-144, 7.11456189e-091, 3.94467097e-062,\n",
       "        3.53979009e-057, 1.11475752e+261, 1.16318408e-028]])"
      ]
     },
     "execution_count": 42,
     "metadata": {},
     "output_type": "execute_result"
    }
   ],
   "source": [
    "emptyarray = np.empty((5,6))\n",
    "# this array create a empty array, does not mean all value should be zero maybe its has some garbage value \n",
    "emptyarray"
   ]
  },
  {
   "cell_type": "code",
   "execution_count": 44,
   "id": "2057db37",
   "metadata": {},
   "outputs": [
    {
     "name": "stdout",
     "output_type": "stream",
     "text": [
      "[[ 9  4  9]\n",
      " [11  6  9]]\n"
     ]
    }
   ],
   "source": [
    "add1 = np.array([[1,2,3],[4,5,6]])\n",
    "add2 = np.array([[8,2,6],[7,1,3]])\n",
    "sumofarray = add1 + add2\n",
    "print(sumofarray)"
   ]
  },
  {
   "cell_type": "code",
   "execution_count": 45,
   "id": "24bd9438",
   "metadata": {},
   "outputs": [
    {
     "name": "stdout",
     "output_type": "stream",
     "text": [
      "[[ 8  4 18]\n",
      " [28  5 18]]\n"
     ]
    }
   ],
   "source": [
    "multiofarray = add1 * add2\n",
    "print(multiofarray)\n",
    "# its only multiply first to first, second to second,......, n to n "
   ]
  },
  {
   "cell_type": "markdown",
   "id": "e34d442b",
   "metadata": {},
   "source": [
    "# slicing\n",
    "##### numpy slicing new array point to the same number memory address (example below)\n"
   ]
  },
  {
   "cell_type": "code",
   "execution_count": 46,
   "id": "2ab0657f",
   "metadata": {},
   "outputs": [],
   "source": [
    "main_arr = np.array([1,2,3,4,5,6,7,8,9])"
   ]
  },
  {
   "cell_type": "code",
   "execution_count": 47,
   "id": "de531928",
   "metadata": {},
   "outputs": [],
   "source": [
    "slice_arr = main_arr[4:6]\n",
    "# its slice array 4 and 5 index and store on this slice_array"
   ]
  },
  {
   "cell_type": "code",
   "execution_count": 48,
   "id": "b61e852e",
   "metadata": {},
   "outputs": [
    {
     "data": {
      "text/plain": [
       "array([5, 6])"
      ]
     },
     "execution_count": 48,
     "metadata": {},
     "output_type": "execute_result"
    }
   ],
   "source": [
    "slice_arr"
   ]
  },
  {
   "cell_type": "code",
   "execution_count": 49,
   "id": "c3e0b21d",
   "metadata": {},
   "outputs": [
    {
     "name": "stdout",
     "output_type": "stream",
     "text": [
      "[50  6]\n"
     ]
    }
   ],
   "source": [
    "slice_arr[0] = 50\n",
    "print(slice_arr)\n",
    "#chaninging the slice array only but"
   ]
  },
  {
   "cell_type": "code",
   "execution_count": 51,
   "id": "87756162",
   "metadata": {},
   "outputs": [
    {
     "data": {
      "text/plain": [
       "array([ 1,  2,  3,  4, 50,  6,  7,  8,  9])"
      ]
     },
     "execution_count": 51,
     "metadata": {},
     "output_type": "execute_result"
    }
   ],
   "source": [
    "main_arr\n",
    "#but this main array gonna change"
   ]
  },
  {
   "cell_type": "code",
   "execution_count": 54,
   "id": "3e26b342",
   "metadata": {},
   "outputs": [
    {
     "data": {
      "text/plain": [
       "array([50,  6])"
      ]
     },
     "execution_count": 54,
     "metadata": {},
     "output_type": "execute_result"
    }
   ],
   "source": [
    "#prevent this by\n",
    "slice_arr = main_arr[4:6].copy()\n",
    "slice_arr"
   ]
  },
  {
   "cell_type": "code",
   "execution_count": 56,
   "id": "46a9241a",
   "metadata": {},
   "outputs": [
    {
     "data": {
      "text/plain": [
       "array([5, 6])"
      ]
     },
     "execution_count": 56,
     "metadata": {},
     "output_type": "execute_result"
    }
   ],
   "source": [
    "slice_arr[0] = 5\n",
    "slice_arr"
   ]
  },
  {
   "cell_type": "code",
   "execution_count": 58,
   "id": "08d13003",
   "metadata": {},
   "outputs": [
    {
     "data": {
      "text/plain": [
       "array([ 1,  2,  3,  4, 50,  6,  7,  8,  9])"
      ]
     },
     "execution_count": 58,
     "metadata": {},
     "output_type": "execute_result"
    }
   ],
   "source": [
    "main_arr\n",
    "#now its not changing"
   ]
  },
  {
   "cell_type": "code",
   "execution_count": null,
   "id": "d2490b0e",
   "metadata": {},
   "outputs": [],
   "source": []
  }
 ],
 "metadata": {
  "kernelspec": {
   "display_name": "Python 3 (ipykernel)",
   "language": "python",
   "name": "python3"
  },
  "language_info": {
   "codemirror_mode": {
    "name": "ipython",
    "version": 3
   },
   "file_extension": ".py",
   "mimetype": "text/x-python",
   "name": "python",
   "nbconvert_exporter": "python",
   "pygments_lexer": "ipython3",
   "version": "3.10.5"
  }
 },
 "nbformat": 4,
 "nbformat_minor": 5
}
